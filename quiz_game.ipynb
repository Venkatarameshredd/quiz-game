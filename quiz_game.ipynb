{
  "nbformat": 4,
  "nbformat_minor": 0,
  "metadata": {
    "colab": {
      "provenance": [],
      "toc_visible": true,
      "authorship_tag": "ABX9TyOVbJpEwx+wmW77/nzBhO6X",
      "include_colab_link": true
    },
    "kernelspec": {
      "name": "python3",
      "display_name": "Python 3"
    },
    "language_info": {
      "name": "python"
    }
  },
  "cells": [
    {
      "cell_type": "markdown",
      "metadata": {
        "id": "view-in-github",
        "colab_type": "text"
      },
      "source": [
        "<a href=\"https://colab.research.google.com/github/Venkatarameshredd/30DaysOfWebDevelopment/blob/main/quiz_game.ipynb\" target=\"_parent\"><img src=\"https://colab.research.google.com/assets/colab-badge.svg\" alt=\"Open In Colab\"/></a>"
      ]
    },
    {
      "cell_type": "code",
      "execution_count": null,
      "metadata": {
        "colab": {
          "base_uri": "https://localhost:8080/",
          "height": 383
        },
        "id": "fvOG6CL89Nh7",
        "outputId": "01d229d8-4ed4-418d-b031-3538f769577f"
      },
      "outputs": [
        {
          "output_type": "error",
          "ename": "ModuleNotFoundError",
          "evalue": "No module named 'questions'",
          "traceback": [
            "\u001b[0;31m---------------------------------------------------------------------------\u001b[0m",
            "\u001b[0;31mModuleNotFoundError\u001b[0m                       Traceback (most recent call last)",
            "\u001b[0;32m<ipython-input-1-3163c5689b1c>\u001b[0m in \u001b[0;36m<cell line: 1>\u001b[0;34m()\u001b[0m\n\u001b[0;32m----> 1\u001b[0;31m \u001b[0;32mfrom\u001b[0m \u001b[0mquestions\u001b[0m \u001b[0;32mimport\u001b[0m \u001b[0mquiz\u001b[0m\u001b[0;34m\u001b[0m\u001b[0;34m\u001b[0m\u001b[0m\n\u001b[0m\u001b[1;32m      2\u001b[0m \u001b[0;34m\u001b[0m\u001b[0m\n\u001b[1;32m      3\u001b[0m \u001b[0;34m\u001b[0m\u001b[0m\n\u001b[1;32m      4\u001b[0m \u001b[0;32mdef\u001b[0m \u001b[0mcheck_ans\u001b[0m\u001b[0;34m(\u001b[0m\u001b[0mquestion\u001b[0m\u001b[0;34m,\u001b[0m \u001b[0mans\u001b[0m\u001b[0;34m,\u001b[0m \u001b[0mattempts\u001b[0m\u001b[0;34m,\u001b[0m \u001b[0mscore\u001b[0m\u001b[0;34m)\u001b[0m\u001b[0;34m:\u001b[0m\u001b[0;34m\u001b[0m\u001b[0;34m\u001b[0m\u001b[0m\n\u001b[1;32m      5\u001b[0m     \"\"\"\n",
            "\u001b[0;31mModuleNotFoundError\u001b[0m: No module named 'questions'",
            "",
            "\u001b[0;31m---------------------------------------------------------------------------\u001b[0;32m\nNOTE: If your import is failing due to a missing package, you can\nmanually install dependencies using either !pip or !apt.\n\nTo view examples of installing some common dependencies, click the\n\"Open Examples\" button below.\n\u001b[0;31m---------------------------------------------------------------------------\u001b[0m\n"
          ],
          "errorDetails": {
            "actions": [
              {
                "action": "open_url",
                "actionText": "Open Examples",
                "url": "/notebooks/snippets/importing_libraries.ipynb"
              }
            ]
          }
        }
      ],
      "source": [
        "from questions import quiz\n",
        "\n",
        "\n",
        "def check_ans(question, ans, attempts, score):\n",
        "    \"\"\"\n",
        "    Takes the arguments, and confirms if the answer provided by user is correct.\n",
        "    Converts all answers to lower case to make sure the quiz is not case sensitive.\n",
        "    \"\"\"\n",
        "    if quiz[question]['answer'].lower() == ans.lower():\n",
        "        print(f\"Correct Answer! \\nYour score is {score + 1}!\")\n",
        "        return True\n",
        "    else:\n",
        "        print(f\"Wrong Answer :( \\nYou have {attempts - 1} left! \\nTry again...\")\n",
        "        return False\n",
        "\n",
        "\n",
        "def print_dictionary():\n",
        "    for question_id, ques_answer in quiz.items():\n",
        "        for key in ques_answer:\n",
        "            print(key + ':', ques_answer[key])\n",
        "\n",
        "\n",
        "def intro_message():\n",
        "    \"\"\"\n",
        "    Introduces user to the quiz and rules, and takes an input from customer to start the quiz.\n",
        "    Returns true regardless of any key pressed.\n",
        "    \"\"\"\n",
        "    print(\"Welcome to this fun food quiz! \\nAre you ready to test your knowledge about food?\")\n",
        "    print(\"There are a total of 20 questions, you can skip a question anytime by typing 'skip'\")\n",
        "    input(\"Press any key to start the fun ;) \")\n",
        "    return True\n",
        "\n",
        "\n",
        "# python project.py\n",
        "intro = intro_message()\n",
        "while True:\n",
        "    score = 0\n",
        "    for question in quiz:\n",
        "        attempts = 3\n",
        "        while attempts > 0:\n",
        "            print(quiz[question]['question'])\n",
        "            answer = input(\"Enter Answer (To move to the next question, type 'skip') : \")\n",
        "            if answer == \"skip\":\n",
        "                break\n",
        "            check = check_ans(question, answer, attempts, score)\n",
        "            if check:\n",
        "                score += 1\n",
        "                break\n",
        "            attempts -= 1\n",
        "\n",
        "    break\n",
        "\n",
        "print(f\"Your final score is {score}!\\n\\n\")\n",
        "print(\"Want to know the correct answers? Please see them below! ;)\\n\")\n",
        "print_dictionary()\n",
        "print(\"Thanks for playing!\")"
      ]
    }
  ]
}